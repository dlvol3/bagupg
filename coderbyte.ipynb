{
 "cells": [
  {
   "cell_type": "code",
   "execution_count": 4,
   "id": "4c7cd00c",
   "metadata": {},
   "outputs": [],
   "source": [
    "# setup and environment loading\n",
    "import os\n",
    "import sys\n",
    "import numpy as np\n",
    "import pandas as pd\n",
    "import matplotlib.pyplot as plt"
   ]
  },
  {
   "cell_type": "markdown",
   "id": "dd63b197",
   "metadata": {},
   "source": [
    "Stock Picker\n",
    "Have the function StockPicker(arr) take the array of numbers stored in arr which will contain integers that represent the amount in dollars that a single stock is worth, and return the maximum profit that could have been made by buying stock on day x and selling stock on day y where y > x. For example: if arr is [44, 30, 24, 32, 35, 30, 40, 38, 15] then your program should return 16 because at index 2 the stock was worth $24 and at index 6 the stock was then worth $40, so if you bought the stock at 24 and sold it at 40, you would have made a profit of $16, which is the maximum profit that could have been made with this list of stock prices.\n",
    "\n",
    "If there is not profit that could have been made with the stock prices, then your program should return -1. For example: arr is [10, 9, 8, 2] then your program should return -1.\n",
    "Examples\n",
    "Input: [10,12,4,5,9]\n",
    "Output: 5"
   ]
  },
  {
   "cell_type": "code",
   "execution_count": null,
   "id": "5ccc884c",
   "metadata": {},
   "outputs": [
    {
     "name": "stdout",
     "output_type": "stream",
     "text": [
      "-1\n"
     ]
    }
   ],
   "source": [
    "def StockPicker(arr):\n",
    "    price = arr\n",
    "    if len(price) < 2:\n",
    "        return -1  # Not enough data to make a profit\n",
    "    if len(price) == 2:\n",
    "        return max(-1, price[1] - price[0])\n",
    "    profit = -1\n",
    "    for i in range(0,len(price)-1):\n",
    "        futuremax = max(price[i:len(price)])  # this max() is O(n-1) inside the O(n-1) forloop, gonna suck at large dataset\n",
    "        if futuremax > price[i]:\n",
    "            profittemp = futuremax - price[i]\n",
    "            profit = max(profittemp, profit)\n",
    "    return profit\n",
    "# An O(n^2) solution, but it is simple and easy to understand.\n",
    "\n",
    "# Attempting to make a O(n) solution using a single pass through the array.\n",
    "def StockPicker(arr):\n",
    "    price = arr\n",
    "    if len(price) < 2:\n",
    "        return -1  # Not enough data to make a profit\n",
    "    if len(price) == 2:\n",
    "        return max(-1, price[1] - price[0])\n",
    "    minprice = price[0]\n",
    "    maxprofit = -1\n",
    "    for i in range(1,len(price)):\n",
    "        if price[i] > minprice:\n",
    "            profit = price[i] - minprice\n",
    "            maxprofit = max(maxprofit, profit)\n",
    "        else:\n",
    "            minprice = price[i]\n",
    "    return maxprofit\n",
    "    \n",
    "\n",
    "print(StockPicker([10,9,8]))  # Example usage\n"
   ]
  },
  {
   "cell_type": "markdown",
   "id": "fb314610",
   "metadata": {},
   "source": [
    "COOL! Now another one：\n",
    "Histogram Area\n",
    "Have the function HistogramArea(arr) read the array of non-negative integers stored in arr which will represent the heights of bars on a graph (where each bar width is 1), and determine the largest area underneath the entire bar graph. For example: if arr is [2, 1, 3, 4, 1] then this looks like the following bar graph:\n",
    "\n",
    "\n",
    "You can see in the above bar graph that the largest area underneath the graph is covered by the x's. The area of that space is equal to 6 because the entire width is 2 and the maximum height is 3, therefore 2 * 3 = 6. Your program should return 6. The array will always contain at least 1 element.\n"
   ]
  },
  {
   "cell_type": "code",
   "execution_count": null,
   "id": "50babc72",
   "metadata": {},
   "outputs": [
    {
     "name": "stdout",
     "output_type": "stream",
     "text": [
      "<class 'range'>\n"
     ]
    }
   ],
   "source": [
    "# A little bit of optimization make it O(n^2)\n",
    "def HistogramArea(arr):\n",
    "    maxarea = 0\n",
    "    for i in range(len(arr)):\n",
    "        minheight = arr[i]\n",
    "        for j in range(i,len(arr)):\n",
    "            minheight = min(minheight,arr[j])\n",
    "            carea = minheight * (j-i+1)\n",
    "            maxarea = max(maxarea, carea)\n",
    "    return maxarea\n",
    "\n",
    "\n",
    "def HistogramArea(arr):\n",
    "\n",
    "# O(n) version is a bit too much in terms of coding difficult at this moment, save for later\n",
    "\n"
   ]
  },
  {
   "cell_type": "code",
   "execution_count": 51,
   "id": "c33fe606",
   "metadata": {},
   "outputs": [
    {
     "name": "stdout",
     "output_type": "stream",
     "text": [
      "2\n",
      "3\n",
      "4\n",
      "5\n",
      "6\n",
      "6\n",
      "6\n",
      "6\n",
      "6\n",
      "6\n",
      "6\n",
      "6\n",
      "6\n",
      "6\n",
      "6\n"
     ]
    }
   ],
   "source": [
    "input = [1, 1, 1, 1,1,1]\n",
    "maxarea = 0\n",
    "for i,j in enumerate(input):\n",
    "    for m in range(i+1, len(input)):\n",
    "        carea = min(input[i:m]) * (m-i+1)\n",
    "        maxarea = max(maxarea,carea)\n",
    "        print(maxarea)"
   ]
  },
  {
   "cell_type": "markdown",
   "id": "ce4cdf66",
   "metadata": {},
   "source": [
    "Basic Roman Numerals\n",
    "Have the function BasicRomanNumerals(str) read str which will be a string of Roman numerals. The numerals being used are: I for 1, V for 5, X for 10, L for 50, C for 100, D for 500 and M for 1000. In Roman numerals, to create a number like 11 you simply add a 1 after the 10, so you get XI. But to create a number like 19, you use the subtraction notation which is to add an I before an X or V (or add an X before an L or C). So 19 in Roman numerals is XIX.\n",
    "\n",
    "The goal of your program is to return the decimal equivalent of the Roman numeral given. For example: if str is \"XXIV\" your program should return 24"
   ]
  },
  {
   "cell_type": "code",
   "execution_count": null,
   "id": "32003025",
   "metadata": {},
   "outputs": [],
   "source": [
    "def BasicRomanNumerals(strp):\n",
    "    summm = 0\n",
    "    charc = list(strp)\n",
    "    dictref = {\n",
    "        'I': 1,\n",
    "        'V': 5,\n",
    "        'X': 10,\n",
    "        'L': 50,\n",
    "        'C': 100,\n",
    "        'D': 500,\n",
    "        'M': 1000\n",
    "    }\n",
    "    for i in range(len(charc)):\n",
    "        if charc[i] not in dictref:\n",
    "            raise ValueError(f\"Invalid Roman numeral character: {charc[i]}\")\n",
    "        if i < (len(charc) -1) and dictref[charc[i]] < dictref[charc[i+1]]:\n",
    "            valuei = -dictref[charc[i]]\n",
    "        else:\n",
    "            valuei = dictref[charc[i]]\n",
    "        summm += valuei\n",
    "\n",
    "    return summm\n",
    "\n",
    "  # code goes here\n",
    "  # keep this function call here \n",
    "print(BasicRomanNumerals(input()))"
   ]
  },
  {
   "cell_type": "code",
   "execution_count": 54,
   "id": "e7b238b2",
   "metadata": {},
   "outputs": [
    {
     "data": {
      "text/plain": [
       "{'I': 1, 'L': 50, 'V': 5, 'D': 500, 'X': 10, 'C': 100, 'M': 1000}"
      ]
     },
     "execution_count": 54,
     "metadata": {},
     "output_type": "execute_result"
    }
   ],
   "source": [
    "dictref = dict({\n",
    "    ('I', 1),\n",
    "    ('V', 5),\n",
    "    ('X', 10),\n",
    "    ('L', 50),\n",
    "    ('C', 100),\n",
    "    ('D', 500),\n",
    "    ('M', 1000)\n",
    "})\n",
    "dictref\n"
   ]
  },
  {
   "cell_type": "code",
   "execution_count": 56,
   "id": "c99dbaa4",
   "metadata": {},
   "outputs": [
    {
     "data": {
      "text/plain": [
       "['X', 'L', 'I', 'V']"
      ]
     },
     "execution_count": 56,
     "metadata": {},
     "output_type": "execute_result"
    }
   ],
   "source": [
    "input = 'XLIV'\n",
    "\n",
    "aa = list(input)\n",
    "aa"
   ]
  }
 ],
 "metadata": {
  "kernelspec": {
   "display_name": ".venv",
   "language": "python",
   "name": "python3"
  },
  "language_info": {
   "codemirror_mode": {
    "name": "ipython",
    "version": 3
   },
   "file_extension": ".py",
   "mimetype": "text/x-python",
   "name": "python",
   "nbconvert_exporter": "python",
   "pygments_lexer": "ipython3",
   "version": "3.12.3"
  }
 },
 "nbformat": 4,
 "nbformat_minor": 5
}
