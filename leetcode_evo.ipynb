{
 "cells": [
  {
   "cell_type": "markdown",
   "id": "1200c858",
   "metadata": {},
   "source": [
    "# Leetcode evo of Yue\n",
    "# Keeping all of the ugly and naive code just to record the progression"
   ]
  },
  {
   "cell_type": "markdown",
   "id": "f32d6c7f",
   "metadata": {},
   "source": [
    "Day 1"
   ]
  },
  {
   "cell_type": "markdown",
   "id": "bf9b4f29",
   "metadata": {},
   "source": [
    "# 1 Two sum\n",
    "1. Two Sum  Easy\n",
    "Given an array of integers nums and an integer target, return indices of the two numbers such that they add up to target.\n",
    "\n",
    "You may assume that each input would have exactly one solution, and you may not use the same element twice.\n",
    "\n",
    "You can return the answer in any order.\n",
    "\n",
    "\n",
    "Example 1:\n",
    "\n",
    "Input: nums = [2,7,11,15], target = 9\n",
    "Output: [0,1]\n",
    "Explanation: Because nums[0] + nums[1] == 9, we return [0, 1].\n",
    "Example 2:\n",
    "\n",
    "Input: nums = [3,2,4], target = 6\n",
    "Output: [1,2]\n",
    "Example 3:\n",
    "\n",
    "Input: nums = [3,3], target = 6\n",
    "Output: [0,1]"
   ]
  },
  {
   "cell_type": "code",
   "execution_count": null,
   "id": "e5de9c4a",
   "metadata": {},
   "outputs": [],
   "source": [
    "# very first answer, super ugly but a nice try!\n",
    "class Solution:\n",
    "    def twoSum(self, nums: List[int], target: int) -> List[int]:\n",
    "        i = 0\n",
    "        for j in range(i+1,len(nums)): \n",
    "            i = 0\n",
    "            while i < len(nums):   # was not even working without adding this hhhhhh\n",
    "                if i == j:\n",
    "                    i+= 1\n",
    "                if nums[i] + nums[j] == target:\n",
    "                    return i, j\n",
    "                else:\n",
    "                    i += 1\n",
    "\n",
    "# O(n^2) stupid as f\n",
    "\n",
    "# Second try\n",
    "class Solution:\n",
    "    def twoSum(self, nums: List[int], target: int) -> List[int]:\n",
    "        ans = {}\n",
    "        for i,j in enumerate(nums):\n",
    "            if target - j in ans.keys():\n",
    "                return ans.get(target - j),i\n",
    "            else:\n",
    "                ans[j] = i\n",
    "\n",
    "# make sure to check the if before assign values into stack otherwise input like [3,3] will give wrong answer\n"
   ]
  },
  {
   "cell_type": "markdown",
   "id": "62a575dd",
   "metadata": {},
   "source": [
    "# Let's do another two-sum! This time is sorted arrays and this should be ez\n",
    "167. Two Sum II - Input Array Is Sorted  Medium\n",
    "\n",
    "Given a 1-indexed array of integers numbers that is already sorted in non-decreasing order, find two numbers such that they add up to a specific target number. Let these two numbers be numbers[index1] and numbers[index2] where 1 <= index1 < index2 <= numbers.length.\n",
    "\n",
    "Return the indices of the two numbers, index1 and index2, added by one as an integer array [index1, index2] of length 2.\n",
    "\n",
    "The tests are generated such that there is exactly one solution. You may not use the same element twice.\n",
    "\n",
    "Your solution must use only constant extra space."
   ]
  },
  {
   "cell_type": "code",
   "execution_count": null,
   "id": "71f3444a",
   "metadata": {},
   "outputs": [],
   "source": [
    "class Solution:\n",
    "    def twoSum(self, numbers: List[int], target: int) -> List[int]:\n",
    "        j = len(numbers) - 1\n",
    "        i = 0\n",
    "        while i<j:\n",
    "            if numbers[i] + numbers[j] == target:\n",
    "                return i+1, j+1\n",
    "            elif numbers[i] + numbers[j] > target:\n",
    "                j -= 1\n",
    "            elif numbers[i] + numbers[j] < target:\n",
    "                i += 1\n",
    "\n",
    "# classic two pointer for sorted array but this take 7ms and only beat 27%\n",
    "\n",
    "\n",
    "# save sum in var in advance to boost run time\n",
    "class Solution:\n",
    "    def twoSum(self, numbers: List[int], target: int) -> List[int]:\n",
    "        i, j = 0, len(numbers) - 1\n",
    "        while i < j:\n",
    "            s = numbers[i] + numbers[j]\n",
    "            if s == target:\n",
    "                return i + 1, j + 1\n",
    "            elif s < target:\n",
    "                i += 1\n",
    "            else:\n",
    "                j -= 1"
   ]
  },
  {
   "cell_type": "markdown",
   "id": "4241b610",
   "metadata": {},
   "source": [
    "Day 2"
   ]
  }
 ],
 "metadata": {
  "kernelspec": {
   "display_name": ".venv",
   "language": "python",
   "name": "python3"
  },
  "language_info": {
   "name": "python",
   "version": "3.12.3"
  }
 },
 "nbformat": 4,
 "nbformat_minor": 5
}
